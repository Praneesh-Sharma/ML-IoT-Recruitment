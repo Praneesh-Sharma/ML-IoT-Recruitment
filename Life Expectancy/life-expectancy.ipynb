{
 "cells": [
  {
   "cell_type": "code",
   "execution_count": 1,
   "id": "52430ecd",
   "metadata": {
    "_cell_guid": "b1076dfc-b9ad-4769-8c92-a6c4dae69d19",
    "_uuid": "8f2839f25d086af736a60e9eeb907d3b93b6e0e5",
    "execution": {
     "iopub.execute_input": "2023-03-02T19:29:10.709938Z",
     "iopub.status.busy": "2023-03-02T19:29:10.709347Z",
     "iopub.status.idle": "2023-03-02T19:29:12.835533Z",
     "shell.execute_reply": "2023-03-02T19:29:12.834202Z"
    },
    "papermill": {
     "duration": 2.142985,
     "end_time": "2023-03-02T19:29:12.838806",
     "exception": false,
     "start_time": "2023-03-02T19:29:10.695821",
     "status": "completed"
    },
    "tags": []
   },
   "outputs": [],
   "source": [
    "import pandas as pd\n",
    "import numpy as np\n",
    "import matplotlib.pyplot as plt\n",
    "import seaborn as sns\n",
    "pd.set_option('max_columns', None)\n",
    "from sklearn.preprocessing import StandardScaler\n",
    "from sklearn.model_selection import train_test_split\n",
    "from sklearn.metrics import accuracy_score, recall_score, classification_report\n",
    "from sklearn.linear_model import LogisticRegression\n",
    "from sklearn.svm import SVR\n",
    "from sklearn.ensemble import RandomForestRegressor, GradientBoostingRegressor\n",
    "from sklearn.tree import DecisionTreeRegressor\n",
    "from xgboost import XGBRegressor"
   ]
  },
  {
   "cell_type": "code",
   "execution_count": 2,
   "id": "b9ddedba",
   "metadata": {
    "execution": {
     "iopub.execute_input": "2023-03-02T19:29:12.861269Z",
     "iopub.status.busy": "2023-03-02T19:29:12.859922Z",
     "iopub.status.idle": "2023-03-02T19:29:12.900282Z",
     "shell.execute_reply": "2023-03-02T19:29:12.899030Z"
    },
    "papermill": {
     "duration": 0.054626,
     "end_time": "2023-03-02T19:29:12.903498",
     "exception": false,
     "start_time": "2023-03-02T19:29:12.848872",
     "status": "completed"
    },
    "tags": []
   },
   "outputs": [],
   "source": [
    "df = pd.read_csv('/kaggle/input/life-expectancy-who/Life Expectancy Data.csv')"
   ]
  },
  {
   "cell_type": "code",
   "execution_count": 3,
   "id": "596b11e8",
   "metadata": {
    "execution": {
     "iopub.execute_input": "2023-03-02T19:29:12.924908Z",
     "iopub.status.busy": "2023-03-02T19:29:12.924434Z",
     "iopub.status.idle": "2023-03-02T19:29:12.984450Z",
     "shell.execute_reply": "2023-03-02T19:29:12.983094Z"
    },
    "papermill": {
     "duration": 0.07501,
     "end_time": "2023-03-02T19:29:12.988276",
     "exception": false,
     "start_time": "2023-03-02T19:29:12.913266",
     "status": "completed"
    },
    "tags": []
   },
   "outputs": [
    {
     "data": {
      "text/html": [
       "<div>\n",
       "<style scoped>\n",
       "    .dataframe tbody tr th:only-of-type {\n",
       "        vertical-align: middle;\n",
       "    }\n",
       "\n",
       "    .dataframe tbody tr th {\n",
       "        vertical-align: top;\n",
       "    }\n",
       "\n",
       "    .dataframe thead th {\n",
       "        text-align: right;\n",
       "    }\n",
       "</style>\n",
       "<table border=\"1\" class=\"dataframe\">\n",
       "  <thead>\n",
       "    <tr style=\"text-align: right;\">\n",
       "      <th></th>\n",
       "      <th>Country</th>\n",
       "      <th>Year</th>\n",
       "      <th>Status</th>\n",
       "      <th>Life expectancy</th>\n",
       "      <th>Adult Mortality</th>\n",
       "      <th>infant deaths</th>\n",
       "      <th>Alcohol</th>\n",
       "      <th>percentage expenditure</th>\n",
       "      <th>Hepatitis B</th>\n",
       "      <th>Measles</th>\n",
       "      <th>BMI</th>\n",
       "      <th>under-five deaths</th>\n",
       "      <th>Polio</th>\n",
       "      <th>Total expenditure</th>\n",
       "      <th>Diphtheria</th>\n",
       "      <th>HIV/AIDS</th>\n",
       "      <th>GDP</th>\n",
       "      <th>Population</th>\n",
       "      <th>thinness  1-19 years</th>\n",
       "      <th>thinness 5-9 years</th>\n",
       "      <th>Income composition of resources</th>\n",
       "      <th>Schooling</th>\n",
       "    </tr>\n",
       "  </thead>\n",
       "  <tbody>\n",
       "    <tr>\n",
       "      <th>0</th>\n",
       "      <td>Afghanistan</td>\n",
       "      <td>2015</td>\n",
       "      <td>Developing</td>\n",
       "      <td>65.0</td>\n",
       "      <td>263.0</td>\n",
       "      <td>62</td>\n",
       "      <td>0.01</td>\n",
       "      <td>71.279624</td>\n",
       "      <td>65.0</td>\n",
       "      <td>1154</td>\n",
       "      <td>19.1</td>\n",
       "      <td>83</td>\n",
       "      <td>6.0</td>\n",
       "      <td>8.16</td>\n",
       "      <td>65.0</td>\n",
       "      <td>0.1</td>\n",
       "      <td>584.259210</td>\n",
       "      <td>33736494.0</td>\n",
       "      <td>17.2</td>\n",
       "      <td>17.3</td>\n",
       "      <td>0.479</td>\n",
       "      <td>10.1</td>\n",
       "    </tr>\n",
       "    <tr>\n",
       "      <th>1</th>\n",
       "      <td>Afghanistan</td>\n",
       "      <td>2014</td>\n",
       "      <td>Developing</td>\n",
       "      <td>59.9</td>\n",
       "      <td>271.0</td>\n",
       "      <td>64</td>\n",
       "      <td>0.01</td>\n",
       "      <td>73.523582</td>\n",
       "      <td>62.0</td>\n",
       "      <td>492</td>\n",
       "      <td>18.6</td>\n",
       "      <td>86</td>\n",
       "      <td>58.0</td>\n",
       "      <td>8.18</td>\n",
       "      <td>62.0</td>\n",
       "      <td>0.1</td>\n",
       "      <td>612.696514</td>\n",
       "      <td>327582.0</td>\n",
       "      <td>17.5</td>\n",
       "      <td>17.5</td>\n",
       "      <td>0.476</td>\n",
       "      <td>10.0</td>\n",
       "    </tr>\n",
       "    <tr>\n",
       "      <th>2</th>\n",
       "      <td>Afghanistan</td>\n",
       "      <td>2013</td>\n",
       "      <td>Developing</td>\n",
       "      <td>59.9</td>\n",
       "      <td>268.0</td>\n",
       "      <td>66</td>\n",
       "      <td>0.01</td>\n",
       "      <td>73.219243</td>\n",
       "      <td>64.0</td>\n",
       "      <td>430</td>\n",
       "      <td>18.1</td>\n",
       "      <td>89</td>\n",
       "      <td>62.0</td>\n",
       "      <td>8.13</td>\n",
       "      <td>64.0</td>\n",
       "      <td>0.1</td>\n",
       "      <td>631.744976</td>\n",
       "      <td>31731688.0</td>\n",
       "      <td>17.7</td>\n",
       "      <td>17.7</td>\n",
       "      <td>0.470</td>\n",
       "      <td>9.9</td>\n",
       "    </tr>\n",
       "    <tr>\n",
       "      <th>3</th>\n",
       "      <td>Afghanistan</td>\n",
       "      <td>2012</td>\n",
       "      <td>Developing</td>\n",
       "      <td>59.5</td>\n",
       "      <td>272.0</td>\n",
       "      <td>69</td>\n",
       "      <td>0.01</td>\n",
       "      <td>78.184215</td>\n",
       "      <td>67.0</td>\n",
       "      <td>2787</td>\n",
       "      <td>17.6</td>\n",
       "      <td>93</td>\n",
       "      <td>67.0</td>\n",
       "      <td>8.52</td>\n",
       "      <td>67.0</td>\n",
       "      <td>0.1</td>\n",
       "      <td>669.959000</td>\n",
       "      <td>3696958.0</td>\n",
       "      <td>17.9</td>\n",
       "      <td>18.0</td>\n",
       "      <td>0.463</td>\n",
       "      <td>9.8</td>\n",
       "    </tr>\n",
       "    <tr>\n",
       "      <th>4</th>\n",
       "      <td>Afghanistan</td>\n",
       "      <td>2011</td>\n",
       "      <td>Developing</td>\n",
       "      <td>59.2</td>\n",
       "      <td>275.0</td>\n",
       "      <td>71</td>\n",
       "      <td>0.01</td>\n",
       "      <td>7.097109</td>\n",
       "      <td>68.0</td>\n",
       "      <td>3013</td>\n",
       "      <td>17.2</td>\n",
       "      <td>97</td>\n",
       "      <td>68.0</td>\n",
       "      <td>7.87</td>\n",
       "      <td>68.0</td>\n",
       "      <td>0.1</td>\n",
       "      <td>63.537231</td>\n",
       "      <td>2978599.0</td>\n",
       "      <td>18.2</td>\n",
       "      <td>18.2</td>\n",
       "      <td>0.454</td>\n",
       "      <td>9.5</td>\n",
       "    </tr>\n",
       "    <tr>\n",
       "      <th>...</th>\n",
       "      <td>...</td>\n",
       "      <td>...</td>\n",
       "      <td>...</td>\n",
       "      <td>...</td>\n",
       "      <td>...</td>\n",
       "      <td>...</td>\n",
       "      <td>...</td>\n",
       "      <td>...</td>\n",
       "      <td>...</td>\n",
       "      <td>...</td>\n",
       "      <td>...</td>\n",
       "      <td>...</td>\n",
       "      <td>...</td>\n",
       "      <td>...</td>\n",
       "      <td>...</td>\n",
       "      <td>...</td>\n",
       "      <td>...</td>\n",
       "      <td>...</td>\n",
       "      <td>...</td>\n",
       "      <td>...</td>\n",
       "      <td>...</td>\n",
       "      <td>...</td>\n",
       "    </tr>\n",
       "    <tr>\n",
       "      <th>2933</th>\n",
       "      <td>Zimbabwe</td>\n",
       "      <td>2004</td>\n",
       "      <td>Developing</td>\n",
       "      <td>44.3</td>\n",
       "      <td>723.0</td>\n",
       "      <td>27</td>\n",
       "      <td>4.36</td>\n",
       "      <td>0.000000</td>\n",
       "      <td>68.0</td>\n",
       "      <td>31</td>\n",
       "      <td>27.1</td>\n",
       "      <td>42</td>\n",
       "      <td>67.0</td>\n",
       "      <td>7.13</td>\n",
       "      <td>65.0</td>\n",
       "      <td>33.6</td>\n",
       "      <td>454.366654</td>\n",
       "      <td>12777511.0</td>\n",
       "      <td>9.4</td>\n",
       "      <td>9.4</td>\n",
       "      <td>0.407</td>\n",
       "      <td>9.2</td>\n",
       "    </tr>\n",
       "    <tr>\n",
       "      <th>2934</th>\n",
       "      <td>Zimbabwe</td>\n",
       "      <td>2003</td>\n",
       "      <td>Developing</td>\n",
       "      <td>44.5</td>\n",
       "      <td>715.0</td>\n",
       "      <td>26</td>\n",
       "      <td>4.06</td>\n",
       "      <td>0.000000</td>\n",
       "      <td>7.0</td>\n",
       "      <td>998</td>\n",
       "      <td>26.7</td>\n",
       "      <td>41</td>\n",
       "      <td>7.0</td>\n",
       "      <td>6.52</td>\n",
       "      <td>68.0</td>\n",
       "      <td>36.7</td>\n",
       "      <td>453.351155</td>\n",
       "      <td>12633897.0</td>\n",
       "      <td>9.8</td>\n",
       "      <td>9.9</td>\n",
       "      <td>0.418</td>\n",
       "      <td>9.5</td>\n",
       "    </tr>\n",
       "    <tr>\n",
       "      <th>2935</th>\n",
       "      <td>Zimbabwe</td>\n",
       "      <td>2002</td>\n",
       "      <td>Developing</td>\n",
       "      <td>44.8</td>\n",
       "      <td>73.0</td>\n",
       "      <td>25</td>\n",
       "      <td>4.43</td>\n",
       "      <td>0.000000</td>\n",
       "      <td>73.0</td>\n",
       "      <td>304</td>\n",
       "      <td>26.3</td>\n",
       "      <td>40</td>\n",
       "      <td>73.0</td>\n",
       "      <td>6.53</td>\n",
       "      <td>71.0</td>\n",
       "      <td>39.8</td>\n",
       "      <td>57.348340</td>\n",
       "      <td>125525.0</td>\n",
       "      <td>1.2</td>\n",
       "      <td>1.3</td>\n",
       "      <td>0.427</td>\n",
       "      <td>10.0</td>\n",
       "    </tr>\n",
       "    <tr>\n",
       "      <th>2936</th>\n",
       "      <td>Zimbabwe</td>\n",
       "      <td>2001</td>\n",
       "      <td>Developing</td>\n",
       "      <td>45.3</td>\n",
       "      <td>686.0</td>\n",
       "      <td>25</td>\n",
       "      <td>1.72</td>\n",
       "      <td>0.000000</td>\n",
       "      <td>76.0</td>\n",
       "      <td>529</td>\n",
       "      <td>25.9</td>\n",
       "      <td>39</td>\n",
       "      <td>76.0</td>\n",
       "      <td>6.16</td>\n",
       "      <td>75.0</td>\n",
       "      <td>42.1</td>\n",
       "      <td>548.587312</td>\n",
       "      <td>12366165.0</td>\n",
       "      <td>1.6</td>\n",
       "      <td>1.7</td>\n",
       "      <td>0.427</td>\n",
       "      <td>9.8</td>\n",
       "    </tr>\n",
       "    <tr>\n",
       "      <th>2937</th>\n",
       "      <td>Zimbabwe</td>\n",
       "      <td>2000</td>\n",
       "      <td>Developing</td>\n",
       "      <td>46.0</td>\n",
       "      <td>665.0</td>\n",
       "      <td>24</td>\n",
       "      <td>1.68</td>\n",
       "      <td>0.000000</td>\n",
       "      <td>79.0</td>\n",
       "      <td>1483</td>\n",
       "      <td>25.5</td>\n",
       "      <td>39</td>\n",
       "      <td>78.0</td>\n",
       "      <td>7.10</td>\n",
       "      <td>78.0</td>\n",
       "      <td>43.5</td>\n",
       "      <td>547.358878</td>\n",
       "      <td>12222251.0</td>\n",
       "      <td>11.0</td>\n",
       "      <td>11.2</td>\n",
       "      <td>0.434</td>\n",
       "      <td>9.8</td>\n",
       "    </tr>\n",
       "  </tbody>\n",
       "</table>\n",
       "<p>2938 rows × 22 columns</p>\n",
       "</div>"
      ],
      "text/plain": [
       "          Country  Year      Status  Life expectancy   Adult Mortality  \\\n",
       "0     Afghanistan  2015  Developing              65.0            263.0   \n",
       "1     Afghanistan  2014  Developing              59.9            271.0   \n",
       "2     Afghanistan  2013  Developing              59.9            268.0   \n",
       "3     Afghanistan  2012  Developing              59.5            272.0   \n",
       "4     Afghanistan  2011  Developing              59.2            275.0   \n",
       "...           ...   ...         ...               ...              ...   \n",
       "2933     Zimbabwe  2004  Developing              44.3            723.0   \n",
       "2934     Zimbabwe  2003  Developing              44.5            715.0   \n",
       "2935     Zimbabwe  2002  Developing              44.8             73.0   \n",
       "2936     Zimbabwe  2001  Developing              45.3            686.0   \n",
       "2937     Zimbabwe  2000  Developing              46.0            665.0   \n",
       "\n",
       "      infant deaths  Alcohol  percentage expenditure  Hepatitis B  Measles   \\\n",
       "0                62     0.01               71.279624         65.0      1154   \n",
       "1                64     0.01               73.523582         62.0       492   \n",
       "2                66     0.01               73.219243         64.0       430   \n",
       "3                69     0.01               78.184215         67.0      2787   \n",
       "4                71     0.01                7.097109         68.0      3013   \n",
       "...             ...      ...                     ...          ...       ...   \n",
       "2933             27     4.36                0.000000         68.0        31   \n",
       "2934             26     4.06                0.000000          7.0       998   \n",
       "2935             25     4.43                0.000000         73.0       304   \n",
       "2936             25     1.72                0.000000         76.0       529   \n",
       "2937             24     1.68                0.000000         79.0      1483   \n",
       "\n",
       "       BMI   under-five deaths   Polio  Total expenditure  Diphtheria   \\\n",
       "0      19.1                  83    6.0               8.16         65.0   \n",
       "1      18.6                  86   58.0               8.18         62.0   \n",
       "2      18.1                  89   62.0               8.13         64.0   \n",
       "3      17.6                  93   67.0               8.52         67.0   \n",
       "4      17.2                  97   68.0               7.87         68.0   \n",
       "...     ...                 ...    ...                ...          ...   \n",
       "2933   27.1                  42   67.0               7.13         65.0   \n",
       "2934   26.7                  41    7.0               6.52         68.0   \n",
       "2935   26.3                  40   73.0               6.53         71.0   \n",
       "2936   25.9                  39   76.0               6.16         75.0   \n",
       "2937   25.5                  39   78.0               7.10         78.0   \n",
       "\n",
       "       HIV/AIDS         GDP  Population   thinness  1-19 years  \\\n",
       "0           0.1  584.259210  33736494.0                   17.2   \n",
       "1           0.1  612.696514    327582.0                   17.5   \n",
       "2           0.1  631.744976  31731688.0                   17.7   \n",
       "3           0.1  669.959000   3696958.0                   17.9   \n",
       "4           0.1   63.537231   2978599.0                   18.2   \n",
       "...         ...         ...         ...                    ...   \n",
       "2933       33.6  454.366654  12777511.0                    9.4   \n",
       "2934       36.7  453.351155  12633897.0                    9.8   \n",
       "2935       39.8   57.348340    125525.0                    1.2   \n",
       "2936       42.1  548.587312  12366165.0                    1.6   \n",
       "2937       43.5  547.358878  12222251.0                   11.0   \n",
       "\n",
       "       thinness 5-9 years  Income composition of resources  Schooling  \n",
       "0                    17.3                            0.479       10.1  \n",
       "1                    17.5                            0.476       10.0  \n",
       "2                    17.7                            0.470        9.9  \n",
       "3                    18.0                            0.463        9.8  \n",
       "4                    18.2                            0.454        9.5  \n",
       "...                   ...                              ...        ...  \n",
       "2933                  9.4                            0.407        9.2  \n",
       "2934                  9.9                            0.418        9.5  \n",
       "2935                  1.3                            0.427       10.0  \n",
       "2936                  1.7                            0.427        9.8  \n",
       "2937                 11.2                            0.434        9.8  \n",
       "\n",
       "[2938 rows x 22 columns]"
      ]
     },
     "execution_count": 3,
     "metadata": {},
     "output_type": "execute_result"
    }
   ],
   "source": [
    "df"
   ]
  },
  {
   "cell_type": "code",
   "execution_count": 4,
   "id": "fdd6dd94",
   "metadata": {
    "execution": {
     "iopub.execute_input": "2023-03-02T19:29:13.011463Z",
     "iopub.status.busy": "2023-03-02T19:29:13.010504Z",
     "iopub.status.idle": "2023-03-02T19:29:13.038570Z",
     "shell.execute_reply": "2023-03-02T19:29:13.037154Z"
    },
    "papermill": {
     "duration": 0.043255,
     "end_time": "2023-03-02T19:29:13.041905",
     "exception": false,
     "start_time": "2023-03-02T19:29:12.998650",
     "status": "completed"
    },
    "tags": []
   },
   "outputs": [
    {
     "name": "stdout",
     "output_type": "stream",
     "text": [
      "<class 'pandas.core.frame.DataFrame'>\n",
      "RangeIndex: 2938 entries, 0 to 2937\n",
      "Data columns (total 22 columns):\n",
      " #   Column                           Non-Null Count  Dtype  \n",
      "---  ------                           --------------  -----  \n",
      " 0   Country                          2938 non-null   object \n",
      " 1   Year                             2938 non-null   int64  \n",
      " 2   Status                           2938 non-null   object \n",
      " 3   Life expectancy                  2928 non-null   float64\n",
      " 4   Adult Mortality                  2928 non-null   float64\n",
      " 5   infant deaths                    2938 non-null   int64  \n",
      " 6   Alcohol                          2744 non-null   float64\n",
      " 7   percentage expenditure           2938 non-null   float64\n",
      " 8   Hepatitis B                      2385 non-null   float64\n",
      " 9   Measles                          2938 non-null   int64  \n",
      " 10   BMI                             2904 non-null   float64\n",
      " 11  under-five deaths                2938 non-null   int64  \n",
      " 12  Polio                            2919 non-null   float64\n",
      " 13  Total expenditure                2712 non-null   float64\n",
      " 14  Diphtheria                       2919 non-null   float64\n",
      " 15   HIV/AIDS                        2938 non-null   float64\n",
      " 16  GDP                              2490 non-null   float64\n",
      " 17  Population                       2286 non-null   float64\n",
      " 18   thinness  1-19 years            2904 non-null   float64\n",
      " 19   thinness 5-9 years              2904 non-null   float64\n",
      " 20  Income composition of resources  2771 non-null   float64\n",
      " 21  Schooling                        2775 non-null   float64\n",
      "dtypes: float64(16), int64(4), object(2)\n",
      "memory usage: 505.1+ KB\n"
     ]
    }
   ],
   "source": [
    "df.info()"
   ]
  },
  {
   "cell_type": "code",
   "execution_count": 5,
   "id": "f18da9f3",
   "metadata": {
    "execution": {
     "iopub.execute_input": "2023-03-02T19:29:13.067250Z",
     "iopub.status.busy": "2023-03-02T19:29:13.066451Z",
     "iopub.status.idle": "2023-03-02T19:29:13.076933Z",
     "shell.execute_reply": "2023-03-02T19:29:13.075612Z"
    },
    "papermill": {
     "duration": 0.026337,
     "end_time": "2023-03-02T19:29:13.079399",
     "exception": false,
     "start_time": "2023-03-02T19:29:13.053062",
     "status": "completed"
    },
    "tags": []
   },
   "outputs": [
    {
     "data": {
      "text/plain": [
       "Afghanistan              16\n",
       "Peru                     16\n",
       "Nicaragua                16\n",
       "Niger                    16\n",
       "Nigeria                  16\n",
       "                         ..\n",
       "Niue                      1\n",
       "San Marino                1\n",
       "Nauru                     1\n",
       "Saint Kitts and Nevis     1\n",
       "Dominica                  1\n",
       "Name: Country, Length: 193, dtype: int64"
      ]
     },
     "execution_count": 5,
     "metadata": {},
     "output_type": "execute_result"
    }
   ],
   "source": [
    "df['Country'].value_counts()"
   ]
  },
  {
   "cell_type": "code",
   "execution_count": 6,
   "id": "46a196e7",
   "metadata": {
    "execution": {
     "iopub.execute_input": "2023-03-02T19:29:13.102880Z",
     "iopub.status.busy": "2023-03-02T19:29:13.102076Z",
     "iopub.status.idle": "2023-03-02T19:29:13.109508Z",
     "shell.execute_reply": "2023-03-02T19:29:13.108296Z"
    },
    "papermill": {
     "duration": 0.022368,
     "end_time": "2023-03-02T19:29:13.112186",
     "exception": false,
     "start_time": "2023-03-02T19:29:13.089818",
     "status": "completed"
    },
    "tags": []
   },
   "outputs": [],
   "source": [
    "df.drop(columns = ['Year', 'Status', 'Country'], inplace = True)"
   ]
  },
  {
   "cell_type": "code",
   "execution_count": 7,
   "id": "b38d8f66",
   "metadata": {
    "execution": {
     "iopub.execute_input": "2023-03-02T19:29:13.135554Z",
     "iopub.status.busy": "2023-03-02T19:29:13.134735Z",
     "iopub.status.idle": "2023-03-02T19:29:13.171159Z",
     "shell.execute_reply": "2023-03-02T19:29:13.169773Z"
    },
    "papermill": {
     "duration": 0.051342,
     "end_time": "2023-03-02T19:29:13.173800",
     "exception": false,
     "start_time": "2023-03-02T19:29:13.122458",
     "status": "completed"
    },
    "tags": []
   },
   "outputs": [
    {
     "data": {
      "text/html": [
       "<div>\n",
       "<style scoped>\n",
       "    .dataframe tbody tr th:only-of-type {\n",
       "        vertical-align: middle;\n",
       "    }\n",
       "\n",
       "    .dataframe tbody tr th {\n",
       "        vertical-align: top;\n",
       "    }\n",
       "\n",
       "    .dataframe thead th {\n",
       "        text-align: right;\n",
       "    }\n",
       "</style>\n",
       "<table border=\"1\" class=\"dataframe\">\n",
       "  <thead>\n",
       "    <tr style=\"text-align: right;\">\n",
       "      <th></th>\n",
       "      <th>Life expectancy</th>\n",
       "      <th>Adult Mortality</th>\n",
       "      <th>infant deaths</th>\n",
       "      <th>Alcohol</th>\n",
       "      <th>percentage expenditure</th>\n",
       "      <th>Hepatitis B</th>\n",
       "      <th>Measles</th>\n",
       "      <th>BMI</th>\n",
       "      <th>under-five deaths</th>\n",
       "      <th>Polio</th>\n",
       "      <th>Total expenditure</th>\n",
       "      <th>Diphtheria</th>\n",
       "      <th>HIV/AIDS</th>\n",
       "      <th>GDP</th>\n",
       "      <th>Population</th>\n",
       "      <th>thinness  1-19 years</th>\n",
       "      <th>thinness 5-9 years</th>\n",
       "      <th>Income composition of resources</th>\n",
       "      <th>Schooling</th>\n",
       "    </tr>\n",
       "  </thead>\n",
       "  <tbody>\n",
       "    <tr>\n",
       "      <th>0</th>\n",
       "      <td>65.0</td>\n",
       "      <td>263.0</td>\n",
       "      <td>62</td>\n",
       "      <td>0.01</td>\n",
       "      <td>71.279624</td>\n",
       "      <td>65.0</td>\n",
       "      <td>1154</td>\n",
       "      <td>19.1</td>\n",
       "      <td>83</td>\n",
       "      <td>6.0</td>\n",
       "      <td>8.16</td>\n",
       "      <td>65.0</td>\n",
       "      <td>0.1</td>\n",
       "      <td>584.259210</td>\n",
       "      <td>33736494.0</td>\n",
       "      <td>17.2</td>\n",
       "      <td>17.3</td>\n",
       "      <td>0.479</td>\n",
       "      <td>10.1</td>\n",
       "    </tr>\n",
       "    <tr>\n",
       "      <th>1</th>\n",
       "      <td>59.9</td>\n",
       "      <td>271.0</td>\n",
       "      <td>64</td>\n",
       "      <td>0.01</td>\n",
       "      <td>73.523582</td>\n",
       "      <td>62.0</td>\n",
       "      <td>492</td>\n",
       "      <td>18.6</td>\n",
       "      <td>86</td>\n",
       "      <td>58.0</td>\n",
       "      <td>8.18</td>\n",
       "      <td>62.0</td>\n",
       "      <td>0.1</td>\n",
       "      <td>612.696514</td>\n",
       "      <td>327582.0</td>\n",
       "      <td>17.5</td>\n",
       "      <td>17.5</td>\n",
       "      <td>0.476</td>\n",
       "      <td>10.0</td>\n",
       "    </tr>\n",
       "    <tr>\n",
       "      <th>2</th>\n",
       "      <td>59.9</td>\n",
       "      <td>268.0</td>\n",
       "      <td>66</td>\n",
       "      <td>0.01</td>\n",
       "      <td>73.219243</td>\n",
       "      <td>64.0</td>\n",
       "      <td>430</td>\n",
       "      <td>18.1</td>\n",
       "      <td>89</td>\n",
       "      <td>62.0</td>\n",
       "      <td>8.13</td>\n",
       "      <td>64.0</td>\n",
       "      <td>0.1</td>\n",
       "      <td>631.744976</td>\n",
       "      <td>31731688.0</td>\n",
       "      <td>17.7</td>\n",
       "      <td>17.7</td>\n",
       "      <td>0.470</td>\n",
       "      <td>9.9</td>\n",
       "    </tr>\n",
       "    <tr>\n",
       "      <th>3</th>\n",
       "      <td>59.5</td>\n",
       "      <td>272.0</td>\n",
       "      <td>69</td>\n",
       "      <td>0.01</td>\n",
       "      <td>78.184215</td>\n",
       "      <td>67.0</td>\n",
       "      <td>2787</td>\n",
       "      <td>17.6</td>\n",
       "      <td>93</td>\n",
       "      <td>67.0</td>\n",
       "      <td>8.52</td>\n",
       "      <td>67.0</td>\n",
       "      <td>0.1</td>\n",
       "      <td>669.959000</td>\n",
       "      <td>3696958.0</td>\n",
       "      <td>17.9</td>\n",
       "      <td>18.0</td>\n",
       "      <td>0.463</td>\n",
       "      <td>9.8</td>\n",
       "    </tr>\n",
       "    <tr>\n",
       "      <th>4</th>\n",
       "      <td>59.2</td>\n",
       "      <td>275.0</td>\n",
       "      <td>71</td>\n",
       "      <td>0.01</td>\n",
       "      <td>7.097109</td>\n",
       "      <td>68.0</td>\n",
       "      <td>3013</td>\n",
       "      <td>17.2</td>\n",
       "      <td>97</td>\n",
       "      <td>68.0</td>\n",
       "      <td>7.87</td>\n",
       "      <td>68.0</td>\n",
       "      <td>0.1</td>\n",
       "      <td>63.537231</td>\n",
       "      <td>2978599.0</td>\n",
       "      <td>18.2</td>\n",
       "      <td>18.2</td>\n",
       "      <td>0.454</td>\n",
       "      <td>9.5</td>\n",
       "    </tr>\n",
       "    <tr>\n",
       "      <th>...</th>\n",
       "      <td>...</td>\n",
       "      <td>...</td>\n",
       "      <td>...</td>\n",
       "      <td>...</td>\n",
       "      <td>...</td>\n",
       "      <td>...</td>\n",
       "      <td>...</td>\n",
       "      <td>...</td>\n",
       "      <td>...</td>\n",
       "      <td>...</td>\n",
       "      <td>...</td>\n",
       "      <td>...</td>\n",
       "      <td>...</td>\n",
       "      <td>...</td>\n",
       "      <td>...</td>\n",
       "      <td>...</td>\n",
       "      <td>...</td>\n",
       "      <td>...</td>\n",
       "      <td>...</td>\n",
       "    </tr>\n",
       "    <tr>\n",
       "      <th>2933</th>\n",
       "      <td>44.3</td>\n",
       "      <td>723.0</td>\n",
       "      <td>27</td>\n",
       "      <td>4.36</td>\n",
       "      <td>0.000000</td>\n",
       "      <td>68.0</td>\n",
       "      <td>31</td>\n",
       "      <td>27.1</td>\n",
       "      <td>42</td>\n",
       "      <td>67.0</td>\n",
       "      <td>7.13</td>\n",
       "      <td>65.0</td>\n",
       "      <td>33.6</td>\n",
       "      <td>454.366654</td>\n",
       "      <td>12777511.0</td>\n",
       "      <td>9.4</td>\n",
       "      <td>9.4</td>\n",
       "      <td>0.407</td>\n",
       "      <td>9.2</td>\n",
       "    </tr>\n",
       "    <tr>\n",
       "      <th>2934</th>\n",
       "      <td>44.5</td>\n",
       "      <td>715.0</td>\n",
       "      <td>26</td>\n",
       "      <td>4.06</td>\n",
       "      <td>0.000000</td>\n",
       "      <td>7.0</td>\n",
       "      <td>998</td>\n",
       "      <td>26.7</td>\n",
       "      <td>41</td>\n",
       "      <td>7.0</td>\n",
       "      <td>6.52</td>\n",
       "      <td>68.0</td>\n",
       "      <td>36.7</td>\n",
       "      <td>453.351155</td>\n",
       "      <td>12633897.0</td>\n",
       "      <td>9.8</td>\n",
       "      <td>9.9</td>\n",
       "      <td>0.418</td>\n",
       "      <td>9.5</td>\n",
       "    </tr>\n",
       "    <tr>\n",
       "      <th>2935</th>\n",
       "      <td>44.8</td>\n",
       "      <td>73.0</td>\n",
       "      <td>25</td>\n",
       "      <td>4.43</td>\n",
       "      <td>0.000000</td>\n",
       "      <td>73.0</td>\n",
       "      <td>304</td>\n",
       "      <td>26.3</td>\n",
       "      <td>40</td>\n",
       "      <td>73.0</td>\n",
       "      <td>6.53</td>\n",
       "      <td>71.0</td>\n",
       "      <td>39.8</td>\n",
       "      <td>57.348340</td>\n",
       "      <td>125525.0</td>\n",
       "      <td>1.2</td>\n",
       "      <td>1.3</td>\n",
       "      <td>0.427</td>\n",
       "      <td>10.0</td>\n",
       "    </tr>\n",
       "    <tr>\n",
       "      <th>2936</th>\n",
       "      <td>45.3</td>\n",
       "      <td>686.0</td>\n",
       "      <td>25</td>\n",
       "      <td>1.72</td>\n",
       "      <td>0.000000</td>\n",
       "      <td>76.0</td>\n",
       "      <td>529</td>\n",
       "      <td>25.9</td>\n",
       "      <td>39</td>\n",
       "      <td>76.0</td>\n",
       "      <td>6.16</td>\n",
       "      <td>75.0</td>\n",
       "      <td>42.1</td>\n",
       "      <td>548.587312</td>\n",
       "      <td>12366165.0</td>\n",
       "      <td>1.6</td>\n",
       "      <td>1.7</td>\n",
       "      <td>0.427</td>\n",
       "      <td>9.8</td>\n",
       "    </tr>\n",
       "    <tr>\n",
       "      <th>2937</th>\n",
       "      <td>46.0</td>\n",
       "      <td>665.0</td>\n",
       "      <td>24</td>\n",
       "      <td>1.68</td>\n",
       "      <td>0.000000</td>\n",
       "      <td>79.0</td>\n",
       "      <td>1483</td>\n",
       "      <td>25.5</td>\n",
       "      <td>39</td>\n",
       "      <td>78.0</td>\n",
       "      <td>7.10</td>\n",
       "      <td>78.0</td>\n",
       "      <td>43.5</td>\n",
       "      <td>547.358878</td>\n",
       "      <td>12222251.0</td>\n",
       "      <td>11.0</td>\n",
       "      <td>11.2</td>\n",
       "      <td>0.434</td>\n",
       "      <td>9.8</td>\n",
       "    </tr>\n",
       "  </tbody>\n",
       "</table>\n",
       "<p>2938 rows × 19 columns</p>\n",
       "</div>"
      ],
      "text/plain": [
       "      Life expectancy   Adult Mortality  infant deaths  Alcohol  \\\n",
       "0                 65.0            263.0             62     0.01   \n",
       "1                 59.9            271.0             64     0.01   \n",
       "2                 59.9            268.0             66     0.01   \n",
       "3                 59.5            272.0             69     0.01   \n",
       "4                 59.2            275.0             71     0.01   \n",
       "...                ...              ...            ...      ...   \n",
       "2933              44.3            723.0             27     4.36   \n",
       "2934              44.5            715.0             26     4.06   \n",
       "2935              44.8             73.0             25     4.43   \n",
       "2936              45.3            686.0             25     1.72   \n",
       "2937              46.0            665.0             24     1.68   \n",
       "\n",
       "      percentage expenditure  Hepatitis B  Measles    BMI   \\\n",
       "0                  71.279624         65.0      1154   19.1   \n",
       "1                  73.523582         62.0       492   18.6   \n",
       "2                  73.219243         64.0       430   18.1   \n",
       "3                  78.184215         67.0      2787   17.6   \n",
       "4                   7.097109         68.0      3013   17.2   \n",
       "...                      ...          ...       ...    ...   \n",
       "2933                0.000000         68.0        31   27.1   \n",
       "2934                0.000000          7.0       998   26.7   \n",
       "2935                0.000000         73.0       304   26.3   \n",
       "2936                0.000000         76.0       529   25.9   \n",
       "2937                0.000000         79.0      1483   25.5   \n",
       "\n",
       "      under-five deaths   Polio  Total expenditure  Diphtheria    HIV/AIDS  \\\n",
       "0                     83    6.0               8.16         65.0        0.1   \n",
       "1                     86   58.0               8.18         62.0        0.1   \n",
       "2                     89   62.0               8.13         64.0        0.1   \n",
       "3                     93   67.0               8.52         67.0        0.1   \n",
       "4                     97   68.0               7.87         68.0        0.1   \n",
       "...                  ...    ...                ...          ...        ...   \n",
       "2933                  42   67.0               7.13         65.0       33.6   \n",
       "2934                  41    7.0               6.52         68.0       36.7   \n",
       "2935                  40   73.0               6.53         71.0       39.8   \n",
       "2936                  39   76.0               6.16         75.0       42.1   \n",
       "2937                  39   78.0               7.10         78.0       43.5   \n",
       "\n",
       "             GDP  Population   thinness  1-19 years   thinness 5-9 years  \\\n",
       "0     584.259210  33736494.0                   17.2                 17.3   \n",
       "1     612.696514    327582.0                   17.5                 17.5   \n",
       "2     631.744976  31731688.0                   17.7                 17.7   \n",
       "3     669.959000   3696958.0                   17.9                 18.0   \n",
       "4      63.537231   2978599.0                   18.2                 18.2   \n",
       "...          ...         ...                    ...                  ...   \n",
       "2933  454.366654  12777511.0                    9.4                  9.4   \n",
       "2934  453.351155  12633897.0                    9.8                  9.9   \n",
       "2935   57.348340    125525.0                    1.2                  1.3   \n",
       "2936  548.587312  12366165.0                    1.6                  1.7   \n",
       "2937  547.358878  12222251.0                   11.0                 11.2   \n",
       "\n",
       "      Income composition of resources  Schooling  \n",
       "0                               0.479       10.1  \n",
       "1                               0.476       10.0  \n",
       "2                               0.470        9.9  \n",
       "3                               0.463        9.8  \n",
       "4                               0.454        9.5  \n",
       "...                               ...        ...  \n",
       "2933                            0.407        9.2  \n",
       "2934                            0.418        9.5  \n",
       "2935                            0.427       10.0  \n",
       "2936                            0.427        9.8  \n",
       "2937                            0.434        9.8  \n",
       "\n",
       "[2938 rows x 19 columns]"
      ]
     },
     "execution_count": 7,
     "metadata": {},
     "output_type": "execute_result"
    }
   ],
   "source": [
    "df"
   ]
  },
  {
   "cell_type": "code",
   "execution_count": 8,
   "id": "d3ded126",
   "metadata": {
    "execution": {
     "iopub.execute_input": "2023-03-02T19:29:13.198047Z",
     "iopub.status.busy": "2023-03-02T19:29:13.197260Z",
     "iopub.status.idle": "2023-03-02T19:29:13.202537Z",
     "shell.execute_reply": "2023-03-02T19:29:13.201424Z"
    },
    "papermill": {
     "duration": 0.020477,
     "end_time": "2023-03-02T19:29:13.205058",
     "exception": false,
     "start_time": "2023-03-02T19:29:13.184581",
     "status": "completed"
    },
    "tags": []
   },
   "outputs": [],
   "source": [
    "#df = pd.get_dummies(df, columns = ['Country'])"
   ]
  },
  {
   "cell_type": "code",
   "execution_count": 9,
   "id": "9c89abde",
   "metadata": {
    "execution": {
     "iopub.execute_input": "2023-03-02T19:29:13.229320Z",
     "iopub.status.busy": "2023-03-02T19:29:13.228487Z",
     "iopub.status.idle": "2023-03-02T19:29:13.265738Z",
     "shell.execute_reply": "2023-03-02T19:29:13.264287Z"
    },
    "papermill": {
     "duration": 0.052908,
     "end_time": "2023-03-02T19:29:13.268675",
     "exception": false,
     "start_time": "2023-03-02T19:29:13.215767",
     "status": "completed"
    },
    "tags": []
   },
   "outputs": [
    {
     "data": {
      "text/html": [
       "<div>\n",
       "<style scoped>\n",
       "    .dataframe tbody tr th:only-of-type {\n",
       "        vertical-align: middle;\n",
       "    }\n",
       "\n",
       "    .dataframe tbody tr th {\n",
       "        vertical-align: top;\n",
       "    }\n",
       "\n",
       "    .dataframe thead th {\n",
       "        text-align: right;\n",
       "    }\n",
       "</style>\n",
       "<table border=\"1\" class=\"dataframe\">\n",
       "  <thead>\n",
       "    <tr style=\"text-align: right;\">\n",
       "      <th></th>\n",
       "      <th>Life expectancy</th>\n",
       "      <th>Adult Mortality</th>\n",
       "      <th>infant deaths</th>\n",
       "      <th>Alcohol</th>\n",
       "      <th>percentage expenditure</th>\n",
       "      <th>Hepatitis B</th>\n",
       "      <th>Measles</th>\n",
       "      <th>BMI</th>\n",
       "      <th>under-five deaths</th>\n",
       "      <th>Polio</th>\n",
       "      <th>Total expenditure</th>\n",
       "      <th>Diphtheria</th>\n",
       "      <th>HIV/AIDS</th>\n",
       "      <th>GDP</th>\n",
       "      <th>Population</th>\n",
       "      <th>thinness  1-19 years</th>\n",
       "      <th>thinness 5-9 years</th>\n",
       "      <th>Income composition of resources</th>\n",
       "      <th>Schooling</th>\n",
       "    </tr>\n",
       "  </thead>\n",
       "  <tbody>\n",
       "    <tr>\n",
       "      <th>0</th>\n",
       "      <td>65.0</td>\n",
       "      <td>263.0</td>\n",
       "      <td>62</td>\n",
       "      <td>0.01</td>\n",
       "      <td>71.279624</td>\n",
       "      <td>65.0</td>\n",
       "      <td>1154</td>\n",
       "      <td>19.1</td>\n",
       "      <td>83</td>\n",
       "      <td>6.0</td>\n",
       "      <td>8.16</td>\n",
       "      <td>65.0</td>\n",
       "      <td>0.1</td>\n",
       "      <td>584.259210</td>\n",
       "      <td>33736494.0</td>\n",
       "      <td>17.2</td>\n",
       "      <td>17.3</td>\n",
       "      <td>0.479</td>\n",
       "      <td>10.1</td>\n",
       "    </tr>\n",
       "    <tr>\n",
       "      <th>1</th>\n",
       "      <td>59.9</td>\n",
       "      <td>271.0</td>\n",
       "      <td>64</td>\n",
       "      <td>0.01</td>\n",
       "      <td>73.523582</td>\n",
       "      <td>62.0</td>\n",
       "      <td>492</td>\n",
       "      <td>18.6</td>\n",
       "      <td>86</td>\n",
       "      <td>58.0</td>\n",
       "      <td>8.18</td>\n",
       "      <td>62.0</td>\n",
       "      <td>0.1</td>\n",
       "      <td>612.696514</td>\n",
       "      <td>327582.0</td>\n",
       "      <td>17.5</td>\n",
       "      <td>17.5</td>\n",
       "      <td>0.476</td>\n",
       "      <td>10.0</td>\n",
       "    </tr>\n",
       "    <tr>\n",
       "      <th>2</th>\n",
       "      <td>59.9</td>\n",
       "      <td>268.0</td>\n",
       "      <td>66</td>\n",
       "      <td>0.01</td>\n",
       "      <td>73.219243</td>\n",
       "      <td>64.0</td>\n",
       "      <td>430</td>\n",
       "      <td>18.1</td>\n",
       "      <td>89</td>\n",
       "      <td>62.0</td>\n",
       "      <td>8.13</td>\n",
       "      <td>64.0</td>\n",
       "      <td>0.1</td>\n",
       "      <td>631.744976</td>\n",
       "      <td>31731688.0</td>\n",
       "      <td>17.7</td>\n",
       "      <td>17.7</td>\n",
       "      <td>0.470</td>\n",
       "      <td>9.9</td>\n",
       "    </tr>\n",
       "    <tr>\n",
       "      <th>3</th>\n",
       "      <td>59.5</td>\n",
       "      <td>272.0</td>\n",
       "      <td>69</td>\n",
       "      <td>0.01</td>\n",
       "      <td>78.184215</td>\n",
       "      <td>67.0</td>\n",
       "      <td>2787</td>\n",
       "      <td>17.6</td>\n",
       "      <td>93</td>\n",
       "      <td>67.0</td>\n",
       "      <td>8.52</td>\n",
       "      <td>67.0</td>\n",
       "      <td>0.1</td>\n",
       "      <td>669.959000</td>\n",
       "      <td>3696958.0</td>\n",
       "      <td>17.9</td>\n",
       "      <td>18.0</td>\n",
       "      <td>0.463</td>\n",
       "      <td>9.8</td>\n",
       "    </tr>\n",
       "    <tr>\n",
       "      <th>4</th>\n",
       "      <td>59.2</td>\n",
       "      <td>275.0</td>\n",
       "      <td>71</td>\n",
       "      <td>0.01</td>\n",
       "      <td>7.097109</td>\n",
       "      <td>68.0</td>\n",
       "      <td>3013</td>\n",
       "      <td>17.2</td>\n",
       "      <td>97</td>\n",
       "      <td>68.0</td>\n",
       "      <td>7.87</td>\n",
       "      <td>68.0</td>\n",
       "      <td>0.1</td>\n",
       "      <td>63.537231</td>\n",
       "      <td>2978599.0</td>\n",
       "      <td>18.2</td>\n",
       "      <td>18.2</td>\n",
       "      <td>0.454</td>\n",
       "      <td>9.5</td>\n",
       "    </tr>\n",
       "    <tr>\n",
       "      <th>...</th>\n",
       "      <td>...</td>\n",
       "      <td>...</td>\n",
       "      <td>...</td>\n",
       "      <td>...</td>\n",
       "      <td>...</td>\n",
       "      <td>...</td>\n",
       "      <td>...</td>\n",
       "      <td>...</td>\n",
       "      <td>...</td>\n",
       "      <td>...</td>\n",
       "      <td>...</td>\n",
       "      <td>...</td>\n",
       "      <td>...</td>\n",
       "      <td>...</td>\n",
       "      <td>...</td>\n",
       "      <td>...</td>\n",
       "      <td>...</td>\n",
       "      <td>...</td>\n",
       "      <td>...</td>\n",
       "    </tr>\n",
       "    <tr>\n",
       "      <th>2933</th>\n",
       "      <td>44.3</td>\n",
       "      <td>723.0</td>\n",
       "      <td>27</td>\n",
       "      <td>4.36</td>\n",
       "      <td>0.000000</td>\n",
       "      <td>68.0</td>\n",
       "      <td>31</td>\n",
       "      <td>27.1</td>\n",
       "      <td>42</td>\n",
       "      <td>67.0</td>\n",
       "      <td>7.13</td>\n",
       "      <td>65.0</td>\n",
       "      <td>33.6</td>\n",
       "      <td>454.366654</td>\n",
       "      <td>12777511.0</td>\n",
       "      <td>9.4</td>\n",
       "      <td>9.4</td>\n",
       "      <td>0.407</td>\n",
       "      <td>9.2</td>\n",
       "    </tr>\n",
       "    <tr>\n",
       "      <th>2934</th>\n",
       "      <td>44.5</td>\n",
       "      <td>715.0</td>\n",
       "      <td>26</td>\n",
       "      <td>4.06</td>\n",
       "      <td>0.000000</td>\n",
       "      <td>7.0</td>\n",
       "      <td>998</td>\n",
       "      <td>26.7</td>\n",
       "      <td>41</td>\n",
       "      <td>7.0</td>\n",
       "      <td>6.52</td>\n",
       "      <td>68.0</td>\n",
       "      <td>36.7</td>\n",
       "      <td>453.351155</td>\n",
       "      <td>12633897.0</td>\n",
       "      <td>9.8</td>\n",
       "      <td>9.9</td>\n",
       "      <td>0.418</td>\n",
       "      <td>9.5</td>\n",
       "    </tr>\n",
       "    <tr>\n",
       "      <th>2935</th>\n",
       "      <td>44.8</td>\n",
       "      <td>73.0</td>\n",
       "      <td>25</td>\n",
       "      <td>4.43</td>\n",
       "      <td>0.000000</td>\n",
       "      <td>73.0</td>\n",
       "      <td>304</td>\n",
       "      <td>26.3</td>\n",
       "      <td>40</td>\n",
       "      <td>73.0</td>\n",
       "      <td>6.53</td>\n",
       "      <td>71.0</td>\n",
       "      <td>39.8</td>\n",
       "      <td>57.348340</td>\n",
       "      <td>125525.0</td>\n",
       "      <td>1.2</td>\n",
       "      <td>1.3</td>\n",
       "      <td>0.427</td>\n",
       "      <td>10.0</td>\n",
       "    </tr>\n",
       "    <tr>\n",
       "      <th>2936</th>\n",
       "      <td>45.3</td>\n",
       "      <td>686.0</td>\n",
       "      <td>25</td>\n",
       "      <td>1.72</td>\n",
       "      <td>0.000000</td>\n",
       "      <td>76.0</td>\n",
       "      <td>529</td>\n",
       "      <td>25.9</td>\n",
       "      <td>39</td>\n",
       "      <td>76.0</td>\n",
       "      <td>6.16</td>\n",
       "      <td>75.0</td>\n",
       "      <td>42.1</td>\n",
       "      <td>548.587312</td>\n",
       "      <td>12366165.0</td>\n",
       "      <td>1.6</td>\n",
       "      <td>1.7</td>\n",
       "      <td>0.427</td>\n",
       "      <td>9.8</td>\n",
       "    </tr>\n",
       "    <tr>\n",
       "      <th>2937</th>\n",
       "      <td>46.0</td>\n",
       "      <td>665.0</td>\n",
       "      <td>24</td>\n",
       "      <td>1.68</td>\n",
       "      <td>0.000000</td>\n",
       "      <td>79.0</td>\n",
       "      <td>1483</td>\n",
       "      <td>25.5</td>\n",
       "      <td>39</td>\n",
       "      <td>78.0</td>\n",
       "      <td>7.10</td>\n",
       "      <td>78.0</td>\n",
       "      <td>43.5</td>\n",
       "      <td>547.358878</td>\n",
       "      <td>12222251.0</td>\n",
       "      <td>11.0</td>\n",
       "      <td>11.2</td>\n",
       "      <td>0.434</td>\n",
       "      <td>9.8</td>\n",
       "    </tr>\n",
       "  </tbody>\n",
       "</table>\n",
       "<p>2938 rows × 19 columns</p>\n",
       "</div>"
      ],
      "text/plain": [
       "      Life expectancy   Adult Mortality  infant deaths  Alcohol  \\\n",
       "0                 65.0            263.0             62     0.01   \n",
       "1                 59.9            271.0             64     0.01   \n",
       "2                 59.9            268.0             66     0.01   \n",
       "3                 59.5            272.0             69     0.01   \n",
       "4                 59.2            275.0             71     0.01   \n",
       "...                ...              ...            ...      ...   \n",
       "2933              44.3            723.0             27     4.36   \n",
       "2934              44.5            715.0             26     4.06   \n",
       "2935              44.8             73.0             25     4.43   \n",
       "2936              45.3            686.0             25     1.72   \n",
       "2937              46.0            665.0             24     1.68   \n",
       "\n",
       "      percentage expenditure  Hepatitis B  Measles    BMI   \\\n",
       "0                  71.279624         65.0      1154   19.1   \n",
       "1                  73.523582         62.0       492   18.6   \n",
       "2                  73.219243         64.0       430   18.1   \n",
       "3                  78.184215         67.0      2787   17.6   \n",
       "4                   7.097109         68.0      3013   17.2   \n",
       "...                      ...          ...       ...    ...   \n",
       "2933                0.000000         68.0        31   27.1   \n",
       "2934                0.000000          7.0       998   26.7   \n",
       "2935                0.000000         73.0       304   26.3   \n",
       "2936                0.000000         76.0       529   25.9   \n",
       "2937                0.000000         79.0      1483   25.5   \n",
       "\n",
       "      under-five deaths   Polio  Total expenditure  Diphtheria    HIV/AIDS  \\\n",
       "0                     83    6.0               8.16         65.0        0.1   \n",
       "1                     86   58.0               8.18         62.0        0.1   \n",
       "2                     89   62.0               8.13         64.0        0.1   \n",
       "3                     93   67.0               8.52         67.0        0.1   \n",
       "4                     97   68.0               7.87         68.0        0.1   \n",
       "...                  ...    ...                ...          ...        ...   \n",
       "2933                  42   67.0               7.13         65.0       33.6   \n",
       "2934                  41    7.0               6.52         68.0       36.7   \n",
       "2935                  40   73.0               6.53         71.0       39.8   \n",
       "2936                  39   76.0               6.16         75.0       42.1   \n",
       "2937                  39   78.0               7.10         78.0       43.5   \n",
       "\n",
       "             GDP  Population   thinness  1-19 years   thinness 5-9 years  \\\n",
       "0     584.259210  33736494.0                   17.2                 17.3   \n",
       "1     612.696514    327582.0                   17.5                 17.5   \n",
       "2     631.744976  31731688.0                   17.7                 17.7   \n",
       "3     669.959000   3696958.0                   17.9                 18.0   \n",
       "4      63.537231   2978599.0                   18.2                 18.2   \n",
       "...          ...         ...                    ...                  ...   \n",
       "2933  454.366654  12777511.0                    9.4                  9.4   \n",
       "2934  453.351155  12633897.0                    9.8                  9.9   \n",
       "2935   57.348340    125525.0                    1.2                  1.3   \n",
       "2936  548.587312  12366165.0                    1.6                  1.7   \n",
       "2937  547.358878  12222251.0                   11.0                 11.2   \n",
       "\n",
       "      Income composition of resources  Schooling  \n",
       "0                               0.479       10.1  \n",
       "1                               0.476       10.0  \n",
       "2                               0.470        9.9  \n",
       "3                               0.463        9.8  \n",
       "4                               0.454        9.5  \n",
       "...                               ...        ...  \n",
       "2933                            0.407        9.2  \n",
       "2934                            0.418        9.5  \n",
       "2935                            0.427       10.0  \n",
       "2936                            0.427        9.8  \n",
       "2937                            0.434        9.8  \n",
       "\n",
       "[2938 rows x 19 columns]"
      ]
     },
     "execution_count": 9,
     "metadata": {},
     "output_type": "execute_result"
    }
   ],
   "source": [
    "df"
   ]
  },
  {
   "cell_type": "code",
   "execution_count": 10,
   "id": "900e2905",
   "metadata": {
    "execution": {
     "iopub.execute_input": "2023-03-02T19:29:13.293782Z",
     "iopub.status.busy": "2023-03-02T19:29:13.293324Z",
     "iopub.status.idle": "2023-03-02T19:29:13.304607Z",
     "shell.execute_reply": "2023-03-02T19:29:13.303274Z"
    },
    "papermill": {
     "duration": 0.02763,
     "end_time": "2023-03-02T19:29:13.307760",
     "exception": false,
     "start_time": "2023-03-02T19:29:13.280130",
     "status": "completed"
    },
    "tags": []
   },
   "outputs": [
    {
     "data": {
      "text/plain": [
       "Life expectancy                     10\n",
       "Adult Mortality                     10\n",
       "infant deaths                        0\n",
       "Alcohol                            194\n",
       "percentage expenditure               0\n",
       "Hepatitis B                        553\n",
       "Measles                              0\n",
       " BMI                                34\n",
       "under-five deaths                    0\n",
       "Polio                               19\n",
       "Total expenditure                  226\n",
       "Diphtheria                          19\n",
       " HIV/AIDS                            0\n",
       "GDP                                448\n",
       "Population                         652\n",
       " thinness  1-19 years               34\n",
       " thinness 5-9 years                 34\n",
       "Income composition of resources    167\n",
       "Schooling                          163\n",
       "dtype: int64"
      ]
     },
     "execution_count": 10,
     "metadata": {},
     "output_type": "execute_result"
    }
   ],
   "source": [
    "df.isnull().sum()"
   ]
  },
  {
   "cell_type": "code",
   "execution_count": 11,
   "id": "6f4afa03",
   "metadata": {
    "execution": {
     "iopub.execute_input": "2023-03-02T19:29:13.333421Z",
     "iopub.status.busy": "2023-03-02T19:29:13.332927Z",
     "iopub.status.idle": "2023-03-02T19:29:31.492615Z",
     "shell.execute_reply": "2023-03-02T19:29:31.491051Z"
    },
    "papermill": {
     "duration": 18.176311,
     "end_time": "2023-03-02T19:29:31.495780",
     "exception": false,
     "start_time": "2023-03-02T19:29:13.319469",
     "status": "completed"
    },
    "tags": []
   },
   "outputs": [
    {
     "name": "stderr",
     "output_type": "stream",
     "text": [
      "/opt/conda/lib/python3.7/site-packages/seaborn/algorithms.py:98: RuntimeWarning: Mean of empty slice\n",
      "  boot_dist.append(f(*sample, **func_kwargs))\n",
      "/opt/conda/lib/python3.7/site-packages/numpy/lib/nanfunctions.py:1376: RuntimeWarning: All-NaN slice encountered\n",
      "  overwrite_input=overwrite_input, interpolation=interpolation\n"
     ]
    },
    {
     "data": {
      "text/plain": [
       "<AxesSubplot:xlabel='Adult Mortality', ylabel='Alcohol'>"
      ]
     },
     "execution_count": 11,
     "metadata": {},
     "output_type": "execute_result"
    },
    {
     "data": {
      "image/png": "[encoded data removed]",
      "text/plain": [
       "<Figure size 1000x800 with 1 Axes>"
      ]
     },
     "metadata": {},
     "output_type": "display_data"
    }
   ],
   "source": [
    "plt.figure(figsize = (10, 8))\n",
    "sns.barplot(x = 'Adult Mortality',y = 'Alcohol', data = df)"
   ]
  },
  {
   "cell_type": "code",
   "execution_count": 12,
   "id": "795ced52",
   "metadata": {
    "execution": {
     "iopub.execute_input": "2023-03-02T19:29:31.522543Z",
     "iopub.status.busy": "2023-03-02T19:29:31.522088Z",
     "iopub.status.idle": "2023-03-02T19:29:31.732753Z",
     "shell.execute_reply": "2023-03-02T19:29:31.731495Z"
    },
    "papermill": {
     "duration": 0.227295,
     "end_time": "2023-03-02T19:29:31.735583",
     "exception": false,
     "start_time": "2023-03-02T19:29:31.508288",
     "status": "completed"
    },
    "tags": []
   },
   "outputs": [
    {
     "data": {
      "text/plain": [
       "<AxesSubplot:xlabel='Alcohol'>"
      ]
     },
     "execution_count": 12,
     "metadata": {},
     "output_type": "execute_result"
    },
    {
     "data": {
      "image/png": "[encoded data removed]",
      "text/plain": [
       "<Figure size 1000x800 with 1 Axes>"
      ]
     },
     "metadata": {},
     "output_type": "display_data"
    }
   ],
   "source": [
    "plt.figure(figsize = (10, 8))\n",
    "sns.boxplot(x = 'Alcohol', data = df)"
   ]
  },
  {
   "cell_type": "code",
   "execution_count": 13,
   "id": "79fe77a9",
   "metadata": {
    "execution": {
     "iopub.execute_input": "2023-03-02T19:29:31.763088Z",
     "iopub.status.busy": "2023-03-02T19:29:31.762581Z",
     "iopub.status.idle": "2023-03-02T19:29:31.770259Z",
     "shell.execute_reply": "2023-03-02T19:29:31.768873Z"
    },
    "papermill": {
     "duration": 0.024373,
     "end_time": "2023-03-02T19:29:31.772825",
     "exception": false,
     "start_time": "2023-03-02T19:29:31.748452",
     "status": "completed"
    },
    "tags": []
   },
   "outputs": [],
   "source": [
    "y= df[\"Life expectancy \"]\n",
    "X=  df.drop([\"Life expectancy \"], axis=1)"
   ]
  },
  {
   "cell_type": "code",
   "execution_count": 14,
   "id": "7f84625d",
   "metadata": {
    "execution": {
     "iopub.execute_input": "2023-03-02T19:29:31.800760Z",
     "iopub.status.busy": "2023-03-02T19:29:31.800329Z",
     "iopub.status.idle": "2023-03-02T19:29:31.812725Z",
     "shell.execute_reply": "2023-03-02T19:29:31.811359Z"
    },
    "papermill": {
     "duration": 0.030088,
     "end_time": "2023-03-02T19:29:31.815892",
     "exception": false,
     "start_time": "2023-03-02T19:29:31.785804",
     "status": "completed"
    },
    "tags": []
   },
   "outputs": [],
   "source": [
    "y.fillna(y.median(), inplace=True)\n",
    "X.fillna(X.mean(), inplace=True)"
   ]
  },
  {
   "cell_type": "code",
   "execution_count": 15,
   "id": "ec269255",
   "metadata": {
    "execution": {
     "iopub.execute_input": "2023-03-02T19:29:31.843890Z",
     "iopub.status.busy": "2023-03-02T19:29:31.843434Z",
     "iopub.status.idle": "2023-03-02T19:29:31.849141Z",
     "shell.execute_reply": "2023-03-02T19:29:31.847951Z"
    },
    "papermill": {
     "duration": 0.022563,
     "end_time": "2023-03-02T19:29:31.851559",
     "exception": false,
     "start_time": "2023-03-02T19:29:31.828996",
     "status": "completed"
    },
    "tags": []
   },
   "outputs": [],
   "source": [
    "sc = StandardScaler()"
   ]
  },
  {
   "cell_type": "code",
   "execution_count": 16,
   "id": "a2c4beca",
   "metadata": {
    "execution": {
     "iopub.execute_input": "2023-03-02T19:29:31.879404Z",
     "iopub.status.busy": "2023-03-02T19:29:31.878940Z",
     "iopub.status.idle": "2023-03-02T19:29:31.889457Z",
     "shell.execute_reply": "2023-03-02T19:29:31.888275Z"
    },
    "papermill": {
     "duration": 0.027698,
     "end_time": "2023-03-02T19:29:31.892037",
     "exception": false,
     "start_time": "2023-03-02T19:29:31.864339",
     "status": "completed"
    },
    "tags": []
   },
   "outputs": [],
   "source": [
    "X = sc.fit_transform(X)"
   ]
  },
  {
   "cell_type": "code",
   "execution_count": 17,
   "id": "277ad493",
   "metadata": {
    "execution": {
     "iopub.execute_input": "2023-03-02T19:29:31.920040Z",
     "iopub.status.busy": "2023-03-02T19:29:31.919592Z",
     "iopub.status.idle": "2023-03-02T19:29:31.926745Z",
     "shell.execute_reply": "2023-03-02T19:29:31.925858Z"
    },
    "papermill": {
     "duration": 0.024109,
     "end_time": "2023-03-02T19:29:31.929544",
     "exception": false,
     "start_time": "2023-03-02T19:29:31.905435",
     "status": "completed"
    },
    "tags": []
   },
   "outputs": [
    {
     "data": {
      "text/plain": [
       "array([[ 0.79158632,  0.26882378, -1.1729584 , ...,  2.77327898,\n",
       "        -0.72540055, -0.57993072],\n",
       "       [ 0.85607167,  0.28578638, -1.1729584 , ...,  2.81790246,\n",
       "        -0.74005007, -0.61056961],\n",
       "       [ 0.83188966,  0.30274898, -1.1729584 , ...,  2.86252595,\n",
       "        -0.7693491 , -0.6412085 ],\n",
       "       ...,\n",
       "       [-0.73994077, -0.04498439, -0.04414645, ..., -0.79659991,\n",
       "        -0.97932554, -0.61056961],\n",
       "       [ 4.20124926, -0.04498439, -0.73624609, ..., -0.70735294,\n",
       "        -0.97932554, -0.6718474 ],\n",
       "       [ 4.03197521, -0.05346569, -0.74646158, ...,  1.41226265,\n",
       "        -0.94514333, -0.6718474 ]])"
      ]
     },
     "execution_count": 17,
     "metadata": {},
     "output_type": "execute_result"
    }
   ],
   "source": [
    "X"
   ]
  },
  {
   "cell_type": "code",
   "execution_count": 18,
   "id": "0d7b8826",
   "metadata": {
    "execution": {
     "iopub.execute_input": "2023-03-02T19:29:31.958072Z",
     "iopub.status.busy": "2023-03-02T19:29:31.957256Z",
     "iopub.status.idle": "2023-03-02T19:29:31.965449Z",
     "shell.execute_reply": "2023-03-02T19:29:31.964354Z"
    },
    "papermill": {
     "duration": 0.025407,
     "end_time": "2023-03-02T19:29:31.968140",
     "exception": false,
     "start_time": "2023-03-02T19:29:31.942733",
     "status": "completed"
    },
    "tags": []
   },
   "outputs": [],
   "source": [
    "X_train, X_test, y_train, y_test = train_test_split(X, y, test_size = 0.2, random_state = 42)"
   ]
  },
  {
   "cell_type": "code",
   "execution_count": 19,
   "id": "18be70cf",
   "metadata": {
    "execution": {
     "iopub.execute_input": "2023-03-02T19:29:31.996454Z",
     "iopub.status.busy": "2023-03-02T19:29:31.995757Z",
     "iopub.status.idle": "2023-03-02T19:29:32.003218Z",
     "shell.execute_reply": "2023-03-02T19:29:32.002202Z"
    },
    "papermill": {
     "duration": 0.025051,
     "end_time": "2023-03-02T19:29:32.006081",
     "exception": false,
     "start_time": "2023-03-02T19:29:31.981030",
     "status": "completed"
    },
    "tags": []
   },
   "outputs": [],
   "source": [
    "from sklearn.linear_model import LogisticRegression\n",
    "from sklearn.svm import SVR\n",
    "from sklearn.ensemble import RandomForestRegressor, GradientBoostingRegressor\n",
    "from sklearn.tree import DecisionTreeRegressor\n",
    "from xgboost import XGBRegressor\n",
    "lg = LogisticRegression()\n",
    "svr = SVR()\n",
    "RF = RandomForestRegressor()\n",
    "GB = GradientBoostingRegressor()\n",
    "DT = DecisionTreeRegressor()\n",
    "XG = XGBRegressor()"
   ]
  },
  {
   "cell_type": "code",
   "execution_count": 20,
   "id": "ede9db96",
   "metadata": {
    "execution": {
     "iopub.execute_input": "2023-03-02T19:29:32.034293Z",
     "iopub.status.busy": "2023-03-02T19:29:32.033140Z",
     "iopub.status.idle": "2023-03-02T19:29:36.132417Z",
     "shell.execute_reply": "2023-03-02T19:29:36.131123Z"
    },
    "papermill": {
     "duration": 4.116225,
     "end_time": "2023-03-02T19:29:36.135228",
     "exception": false,
     "start_time": "2023-03-02T19:29:32.019003",
     "status": "completed"
    },
    "tags": []
   },
   "outputs": [
    {
     "data": {
      "text/plain": [
       "XGBRegressor(base_score=0.5, booster='gbtree', callbacks=None,\n",
       "             colsample_bylevel=1, colsample_bynode=1, colsample_bytree=1,\n",
       "             early_stopping_rounds=None, enable_categorical=False,\n",
       "             eval_metric=None, gamma=0, gpu_id=-1, grow_policy='depthwise',\n",
       "             importance_type=None, interaction_constraints='',\n",
       "             learning_rate=0.300000012, max_bin=256, max_cat_to_onehot=4,\n",
       "             max_delta_step=0, max_depth=6, max_leaves=0, min_child_weight=1,\n",
       "             missing=nan, monotone_constraints='()', n_estimators=100, n_jobs=0,\n",
       "             num_parallel_tree=1, predictor='auto', random_state=0, reg_alpha=0,\n",
       "             reg_lambda=1, ...)"
      ]
     },
     "execution_count": 20,
     "metadata": {},
     "output_type": "execute_result"
    }
   ],
   "source": [
    "#lg.fit(X_train, y_train)\n",
    "svr.fit(X_train, y_train)\n",
    "RF.fit(X_train, y_train)\n",
    "GB.fit(X_train, y_train)\n",
    "DT.fit(X_train, y_train)\n",
    "XG.fit(X_train, y_train)"
   ]
  },
  {
   "cell_type": "code",
   "execution_count": 21,
   "id": "a42a675a",
   "metadata": {
    "execution": {
     "iopub.execute_input": "2023-03-02T19:29:36.162973Z",
     "iopub.status.busy": "2023-03-02T19:29:36.162508Z",
     "iopub.status.idle": "2023-03-02T19:29:36.281117Z",
     "shell.execute_reply": "2023-03-02T19:29:36.279746Z"
    },
    "papermill": {
     "duration": 0.136199,
     "end_time": "2023-03-02T19:29:36.284333",
     "exception": false,
     "start_time": "2023-03-02T19:29:36.148134",
     "status": "completed"
    },
    "tags": []
   },
   "outputs": [],
   "source": [
    "y_pred_svr = svr.predict(X_test)\n",
    "y_pred_RF = RF.predict(X_test)\n",
    "y_pred_GB = GB.predict(X_test)\n",
    "y_pred_DT = DT.predict(X_test)\n",
    "y_pred_XG = XG.predict(X_test)"
   ]
  },
  {
   "cell_type": "code",
   "execution_count": 22,
   "id": "ea4cdbff",
   "metadata": {
    "execution": {
     "iopub.execute_input": "2023-03-02T19:29:36.312324Z",
     "iopub.status.busy": "2023-03-02T19:29:36.311812Z",
     "iopub.status.idle": "2023-03-02T19:29:36.725865Z",
     "shell.execute_reply": "2023-03-02T19:29:36.724325Z"
    },
    "papermill": {
     "duration": 0.431798,
     "end_time": "2023-03-02T19:29:36.729053",
     "exception": false,
     "start_time": "2023-03-02T19:29:36.297255",
     "status": "completed"
    },
    "tags": []
   },
   "outputs": [],
   "source": [
    "train_accuracy_svr = svr.score(X_train, y_train)\n",
    "test_accuracy_svr = svr.score(X_test, y_test)"
   ]
  },
  {
   "cell_type": "code",
   "execution_count": 23,
   "id": "2916491d",
   "metadata": {
    "execution": {
     "iopub.execute_input": "2023-03-02T19:29:36.761382Z",
     "iopub.status.busy": "2023-03-02T19:29:36.760883Z",
     "iopub.status.idle": "2023-03-02T19:29:36.767052Z",
     "shell.execute_reply": "2023-03-02T19:29:36.765820Z"
    },
    "papermill": {
     "duration": 0.026191,
     "end_time": "2023-03-02T19:29:36.770086",
     "exception": false,
     "start_time": "2023-03-02T19:29:36.743895",
     "status": "completed"
    },
    "tags": []
   },
   "outputs": [
    {
     "name": "stdout",
     "output_type": "stream",
     "text": [
      "train_accuracy_svr 0.867213869764807\n",
      "test_accuracy_svr 0.8741068502028092\n"
     ]
    }
   ],
   "source": [
    "print('train_accuracy_svr', train_accuracy_svr)\n",
    "print('test_accuracy_svr', test_accuracy_svr)"
   ]
  },
  {
   "cell_type": "code",
   "execution_count": 24,
   "id": "dea42d1e",
   "metadata": {
    "execution": {
     "iopub.execute_input": "2023-03-02T19:29:36.798166Z",
     "iopub.status.busy": "2023-03-02T19:29:36.797683Z",
     "iopub.status.idle": "2023-03-02T19:29:36.876270Z",
     "shell.execute_reply": "2023-03-02T19:29:36.875043Z"
    },
    "papermill": {
     "duration": 0.096225,
     "end_time": "2023-03-02T19:29:36.879415",
     "exception": false,
     "start_time": "2023-03-02T19:29:36.783190",
     "status": "completed"
    },
    "tags": []
   },
   "outputs": [],
   "source": [
    "train_accuracy_RF = RF.score(X_train, y_train)\n",
    "test_accuracy_RF = RF.score(X_test, y_test)"
   ]
  },
  {
   "cell_type": "code",
   "execution_count": 25,
   "id": "72d934be",
   "metadata": {
    "execution": {
     "iopub.execute_input": "2023-03-02T19:29:36.907263Z",
     "iopub.status.busy": "2023-03-02T19:29:36.906782Z",
     "iopub.status.idle": "2023-03-02T19:29:36.913451Z",
     "shell.execute_reply": "2023-03-02T19:29:36.912024Z"
    },
    "papermill": {
     "duration": 0.023292,
     "end_time": "2023-03-02T19:29:36.915843",
     "exception": false,
     "start_time": "2023-03-02T19:29:36.892551",
     "status": "completed"
    },
    "tags": []
   },
   "outputs": [
    {
     "name": "stdout",
     "output_type": "stream",
     "text": [
      "train_accuracy_RF 0.9944799931526318\n",
      "test_accuracy_RF 0.9678515542103545\n"
     ]
    }
   ],
   "source": [
    "print('train_accuracy_RF', train_accuracy_RF)\n",
    "print('test_accuracy_RF', test_accuracy_RF)"
   ]
  },
  {
   "cell_type": "code",
   "execution_count": 26,
   "id": "5d628c11",
   "metadata": {
    "execution": {
     "iopub.execute_input": "2023-03-02T19:29:36.943812Z",
     "iopub.status.busy": "2023-03-02T19:29:36.943369Z",
     "iopub.status.idle": "2023-03-02T19:29:36.956124Z",
     "shell.execute_reply": "2023-03-02T19:29:36.955121Z"
    },
    "papermill": {
     "duration": 0.029844,
     "end_time": "2023-03-02T19:29:36.958833",
     "exception": false,
     "start_time": "2023-03-02T19:29:36.928989",
     "status": "completed"
    },
    "tags": []
   },
   "outputs": [],
   "source": [
    "train_accuracy_GB = GB.score(X_train, y_train)\n",
    "test_accuracy_GB = GB.score(X_test, y_test)"
   ]
  },
  {
   "cell_type": "code",
   "execution_count": 27,
   "id": "c7e7f7a6",
   "metadata": {
    "execution": {
     "iopub.execute_input": "2023-03-02T19:29:36.987796Z",
     "iopub.status.busy": "2023-03-02T19:29:36.987337Z",
     "iopub.status.idle": "2023-03-02T19:29:36.993445Z",
     "shell.execute_reply": "2023-03-02T19:29:36.992233Z"
    },
    "papermill": {
     "duration": 0.023632,
     "end_time": "2023-03-02T19:29:36.996016",
     "exception": false,
     "start_time": "2023-03-02T19:29:36.972384",
     "status": "completed"
    },
    "tags": []
   },
   "outputs": [
    {
     "name": "stdout",
     "output_type": "stream",
     "text": [
      "train_accuracy_GB 0.960274138117625\n",
      "test_accuracy_GB 0.9497737040574451\n"
     ]
    }
   ],
   "source": [
    "print('train_accuracy_GB', train_accuracy_GB)\n",
    "print('test_accuracy_GB', test_accuracy_GB)"
   ]
  },
  {
   "cell_type": "code",
   "execution_count": 28,
   "id": "a0509d15",
   "metadata": {
    "execution": {
     "iopub.execute_input": "2023-03-02T19:29:37.025931Z",
     "iopub.status.busy": "2023-03-02T19:29:37.024614Z",
     "iopub.status.idle": "2023-03-02T19:29:37.034062Z",
     "shell.execute_reply": "2023-03-02T19:29:37.032834Z"
    },
    "papermill": {
     "duration": 0.027158,
     "end_time": "2023-03-02T19:29:37.037016",
     "exception": false,
     "start_time": "2023-03-02T19:29:37.009858",
     "status": "completed"
    },
    "tags": []
   },
   "outputs": [],
   "source": [
    "train_accuracy_DT = DT.score(X_train, y_train)\n",
    "test_accuracy_DT = DT.score(X_test, y_test)"
   ]
  },
  {
   "cell_type": "code",
   "execution_count": 29,
   "id": "e62a2239",
   "metadata": {
    "execution": {
     "iopub.execute_input": "2023-03-02T19:29:37.065025Z",
     "iopub.status.busy": "2023-03-02T19:29:37.064514Z",
     "iopub.status.idle": "2023-03-02T19:29:37.071410Z",
     "shell.execute_reply": "2023-03-02T19:29:37.070043Z"
    },
    "papermill": {
     "duration": 0.023862,
     "end_time": "2023-03-02T19:29:37.074055",
     "exception": false,
     "start_time": "2023-03-02T19:29:37.050193",
     "status": "completed"
    },
    "tags": []
   },
   "outputs": [
    {
     "name": "stdout",
     "output_type": "stream",
     "text": [
      "train_accuracy_DT 1.0\n",
      "test_accuracy_DT 0.9264705691883861\n"
     ]
    }
   ],
   "source": [
    "print('train_accuracy_DT', train_accuracy_DT)\n",
    "print('test_accuracy_DT', test_accuracy_DT)"
   ]
  },
  {
   "cell_type": "code",
   "execution_count": 30,
   "id": "02661d12",
   "metadata": {
    "execution": {
     "iopub.execute_input": "2023-03-02T19:29:37.103102Z",
     "iopub.status.busy": "2023-03-02T19:29:37.101809Z",
     "iopub.status.idle": "2023-03-02T19:29:37.119997Z",
     "shell.execute_reply": "2023-03-02T19:29:37.118865Z"
    },
    "papermill": {
     "duration": 0.036426,
     "end_time": "2023-03-02T19:29:37.123724",
     "exception": false,
     "start_time": "2023-03-02T19:29:37.087298",
     "status": "completed"
    },
    "tags": []
   },
   "outputs": [],
   "source": [
    "train_accuracy_XG = XG.score(X_train, y_train)\n",
    "test_accuracy_XG = XG.score(X_test, y_test)"
   ]
  },
  {
   "cell_type": "code",
   "execution_count": 31,
   "id": "635326f8",
   "metadata": {
    "execution": {
     "iopub.execute_input": "2023-03-02T19:29:37.152522Z",
     "iopub.status.busy": "2023-03-02T19:29:37.151302Z",
     "iopub.status.idle": "2023-03-02T19:29:37.158452Z",
     "shell.execute_reply": "2023-03-02T19:29:37.156856Z"
    },
    "papermill": {
     "duration": 0.02424,
     "end_time": "2023-03-02T19:29:37.161063",
     "exception": false,
     "start_time": "2023-03-02T19:29:37.136823",
     "status": "completed"
    },
    "tags": []
   },
   "outputs": [
    {
     "name": "stdout",
     "output_type": "stream",
     "text": [
      "train_accuracy_XG 0.9986822323506954\n",
      "test_accuracy_XG 0.9583070043137623\n"
     ]
    }
   ],
   "source": [
    "print('train_accuracy_XG', train_accuracy_XG)\n",
    "print('test_accuracy_XG', test_accuracy_XG)"
   ]
  },
  {
   "cell_type": "code",
   "execution_count": 32,
   "id": "e12d245d",
   "metadata": {
    "execution": {
     "iopub.execute_input": "2023-03-02T19:29:37.190556Z",
     "iopub.status.busy": "2023-03-02T19:29:37.190055Z",
     "iopub.status.idle": "2023-03-02T19:29:37.195290Z",
     "shell.execute_reply": "2023-03-02T19:29:37.194006Z"
    },
    "papermill": {
     "duration": 0.023326,
     "end_time": "2023-03-02T19:29:37.197658",
     "exception": false,
     "start_time": "2023-03-02T19:29:37.174332",
     "status": "completed"
    },
    "tags": []
   },
   "outputs": [],
   "source": [
    "#Here Random forest got high scoring with training and testing "
   ]
  },
  {
   "cell_type": "markdown",
   "id": "f18c44aa",
   "metadata": {
    "papermill": {
     "duration": 0.012843,
     "end_time": "2023-03-02T19:29:37.224074",
     "exception": false,
     "start_time": "2023-03-02T19:29:37.211231",
     "status": "completed"
    },
    "tags": []
   },
   "source": []
  },
  {
   "cell_type": "markdown",
   "id": "2a8e7957",
   "metadata": {
    "papermill": {
     "duration": 0.013503,
     "end_time": "2023-03-02T19:29:37.251339",
     "exception": false,
     "start_time": "2023-03-02T19:29:37.237836",
     "status": "completed"
    },
    "tags": []
   },
   "source": []
  },
  {
   "cell_type": "code",
   "execution_count": 33,
   "id": "637b6d48",
   "metadata": {
    "execution": {
     "iopub.execute_input": "2023-03-02T19:29:37.280009Z",
     "iopub.status.busy": "2023-03-02T19:29:37.279499Z",
     "iopub.status.idle": "2023-03-02T19:29:37.286888Z",
     "shell.execute_reply": "2023-03-02T19:29:37.285596Z"
    },
    "papermill": {
     "duration": 0.024961,
     "end_time": "2023-03-02T19:29:37.289464",
     "exception": false,
     "start_time": "2023-03-02T19:29:37.264503",
     "status": "completed"
    },
    "tags": []
   },
   "outputs": [],
   "source": [
    "from sklearn.metrics import mean_absolute_error , mean_squared_error\n",
    "MAE = mean_absolute_error(y_test, y_pred_RF)\n",
    "MSE = mean_squared_error(y_test, y_pred_RF)"
   ]
  },
  {
   "cell_type": "code",
   "execution_count": 34,
   "id": "d435ef8b",
   "metadata": {
    "execution": {
     "iopub.execute_input": "2023-03-02T19:29:37.318601Z",
     "iopub.status.busy": "2023-03-02T19:29:37.318072Z",
     "iopub.status.idle": "2023-03-02T19:29:37.324526Z",
     "shell.execute_reply": "2023-03-02T19:29:37.323222Z"
    },
    "papermill": {
     "duration": 0.024643,
     "end_time": "2023-03-02T19:29:37.327287",
     "exception": false,
     "start_time": "2023-03-02T19:29:37.302644",
     "status": "completed"
    },
    "tags": []
   },
   "outputs": [
    {
     "name": "stdout",
     "output_type": "stream",
     "text": [
      "mean_absolute_error: 1.0784999999999987\n",
      "mean_squared_error: 2.786221095238091\n"
     ]
    }
   ],
   "source": [
    "print('mean_absolute_error:', MAE)\n",
    "print('mean_squared_error:', MSE)"
   ]
  },
  {
   "cell_type": "code",
   "execution_count": 35,
   "id": "6cae1f1b",
   "metadata": {
    "execution": {
     "iopub.execute_input": "2023-03-02T19:29:37.355768Z",
     "iopub.status.busy": "2023-03-02T19:29:37.355307Z",
     "iopub.status.idle": "2023-03-02T19:29:37.360630Z",
     "shell.execute_reply": "2023-03-02T19:29:37.359272Z"
    },
    "papermill": {
     "duration": 0.022793,
     "end_time": "2023-03-02T19:29:37.363373",
     "exception": false,
     "start_time": "2023-03-02T19:29:37.340580",
     "status": "completed"
    },
    "tags": []
   },
   "outputs": [],
   "source": [
    "new_data = X"
   ]
  },
  {
   "cell_type": "code",
   "execution_count": 36,
   "id": "dd98c407",
   "metadata": {
    "execution": {
     "iopub.execute_input": "2023-03-02T19:29:37.391859Z",
     "iopub.status.busy": "2023-03-02T19:29:37.391336Z",
     "iopub.status.idle": "2023-03-02T19:29:37.451850Z",
     "shell.execute_reply": "2023-03-02T19:29:37.450580Z"
    },
    "papermill": {
     "duration": 0.078154,
     "end_time": "2023-03-02T19:29:37.454827",
     "exception": false,
     "start_time": "2023-03-02T19:29:37.376673",
     "status": "completed"
    },
    "tags": []
   },
   "outputs": [],
   "source": [
    "prediction = RF.predict(new_data)"
   ]
  },
  {
   "cell_type": "code",
   "execution_count": 37,
   "id": "c6c1fe71",
   "metadata": {
    "execution": {
     "iopub.execute_input": "2023-03-02T19:29:37.484642Z",
     "iopub.status.busy": "2023-03-02T19:29:37.483300Z",
     "iopub.status.idle": "2023-03-02T19:29:37.491906Z",
     "shell.execute_reply": "2023-03-02T19:29:37.490562Z"
    },
    "papermill": {
     "duration": 0.026271,
     "end_time": "2023-03-02T19:29:37.494585",
     "exception": false,
     "start_time": "2023-03-02T19:29:37.468314",
     "status": "completed"
    },
    "tags": []
   },
   "outputs": [
    {
     "data": {
      "text/plain": [
       "array([64.229, 59.869, 59.885, ..., 45.987, 45.288, 45.053])"
      ]
     },
     "execution_count": 37,
     "metadata": {},
     "output_type": "execute_result"
    }
   ],
   "source": [
    "prediction"
   ]
  },
  {
   "cell_type": "code",
   "execution_count": null,
   "id": "30a3d06f",
   "metadata": {
    "papermill": {
     "duration": 0.013005,
     "end_time": "2023-03-02T19:29:37.521087",
     "exception": false,
     "start_time": "2023-03-02T19:29:37.508082",
     "status": "completed"
    },
    "tags": []
   },
   "outputs": [],
   "source": []
  }
 ],
 "metadata": {
  "kernelspec": {
   "display_name": "Python 3 (ipykernel)",
   "language": "python",
   "name": "python3"
  },
  "language_info": {
   "codemirror_mode": {
    "name": "ipython",
    "version": 3
   },
   "file_extension": ".py",
   "mimetype": "text/x-python",
   "name": "python",
   "nbconvert_exporter": "python",
   "pygments_lexer": "ipython3",
   "version": "3.9.7"
  },
  "papermill": {
   "default_parameters": {},
   "duration": 38.96245,
   "end_time": "2023-03-02T19:29:38.460233",
   "environment_variables": {},
   "exception": null,
   "input_path": "__notebook__.ipynb",
   "output_path": "__notebook__.ipynb",
   "parameters": {},
   "start_time": "2023-03-02T19:28:59.497783",
   "version": "2.4.0"
  }
 },
 "nbformat": 4,
 "nbformat_minor": 5
}
